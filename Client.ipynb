{
 "cells": [
  {
   "cell_type": "code",
   "execution_count": 1,
   "metadata": {},
   "outputs": [
    {
     "ename": "ModuleNotFoundError",
     "evalue": "No module named 'grpc'",
     "output_type": "error",
     "traceback": [
      "\u001b[1;31m---------------------------------------------------------------------------\u001b[0m",
      "\u001b[1;31mModuleNotFoundError\u001b[0m                       Traceback (most recent call last)",
      "\u001b[1;32m<ipython-input-1-3b05494ba694>\u001b[0m in \u001b[0;36m<module>\u001b[1;34m\u001b[0m\n\u001b[0;32m      1\u001b[0m \u001b[1;32mimport\u001b[0m \u001b[0mtime\u001b[0m\u001b[1;33m\u001b[0m\u001b[1;33m\u001b[0m\u001b[0m\n\u001b[0;32m      2\u001b[0m \u001b[1;33m\u001b[0m\u001b[0m\n\u001b[1;32m----> 3\u001b[1;33m \u001b[1;32mimport\u001b[0m \u001b[0mgrpc\u001b[0m\u001b[1;33m\u001b[0m\u001b[1;33m\u001b[0m\u001b[0m\n\u001b[0m\u001b[0;32m      4\u001b[0m \u001b[1;32mimport\u001b[0m \u001b[0mtestrpc_pb2\u001b[0m \u001b[1;32mas\u001b[0m \u001b[0mpb2\u001b[0m\u001b[1;33m\u001b[0m\u001b[1;33m\u001b[0m\u001b[0m\n\u001b[0;32m      5\u001b[0m \u001b[1;32mimport\u001b[0m \u001b[0mtestrpc_pb2_grpc\u001b[0m \u001b[1;32mas\u001b[0m \u001b[0mpb2_grpc\u001b[0m\u001b[1;33m\u001b[0m\u001b[1;33m\u001b[0m\u001b[0m\n",
      "\u001b[1;31mModuleNotFoundError\u001b[0m: No module named 'grpc'"
     ]
    }
   ],
   "source": [
    "import time\n",
    "\n",
    "import grpc\n",
    "import testrpc_pb2 as pb2\n",
    "import testrpc_pb2_grpc as pb2_grpc"
   ]
  },
  {
   "cell_type": "code",
   "execution_count": 2,
   "metadata": {},
   "outputs": [],
   "source": [
    "def make_OneToOne_call(stub):\n",
    "    stub = pb2_grpc.TestRPCStub(channel)\n",
    "    print(stub.OneToOne(pb2.Request(msg=b'Hello')))\n",
    "\n",
    "def make_OneToStream_call(stub):\n",
    "    for reply in stub.OneToStream(pb2.Request(msg=b'Hello')):\n",
    "        print(reply)\n",
    "\n",
    "def make_StreamToOne_call(stub):\n",
    "    msg = b'Hello'\n",
    "    splits = [ pb2.Request(msg=msg[i:i+1]) for i in range(len(msg)) ]\n",
    "    print(stub.StreamToOne(iter(splits)))\n",
    "\n",
    "def make_StreamToStream_call(stub, interval):\n",
    "    def req_generator(msg):\n",
    "        for i in range(len(msg)):\n",
    "            yield pb2.Request(msg=msg[i:i+1])\n",
    "            time.sleep(interval)\n",
    "            \n",
    "    msg = b'abcdefghijklmnopq'\n",
    "    for reply in stub.StreamToStream(req_generator(msg)):\n",
    "        print(reply.msg)\n"
   ]
  },
  {
   "cell_type": "code",
   "execution_count": 3,
   "metadata": {},
   "outputs": [
    {
     "name": "stdout",
     "output_type": "stream",
     "text": [
      "msg: \"Hello\"\n",
      "\n",
      "msg: \"H\"\n",
      "\n",
      "msg: \"e\"\n",
      "\n",
      "msg: \"l\"\n",
      "\n",
      "msg: \"l\"\n",
      "\n",
      "msg: \"o\"\n",
      "\n",
      "msg: \"Hello\"\n",
      "\n"
     ]
    }
   ],
   "source": [
    "with grpc.insecure_channel('localhost:50051') as channel:\n",
    "    stub = pb2_grpc.TestRPCStub(channel)\n",
    "    make_OneToOne_call(stub)\n",
    "    make_OneToStream_call(stub)\n",
    "    make_StreamToOne_call(stub)"
   ]
  },
  {
   "cell_type": "code",
   "execution_count": 4,
   "metadata": {},
   "outputs": [
    {
     "name": "stdout",
     "output_type": "stream",
     "text": [
      "b'a'\n",
      "b'k'\n",
      "b'o'\n",
      "b'p'\n",
      "b'q'\n"
     ]
    }
   ],
   "source": [
    "with grpc.insecure_channel('localhost:50051') as channel:\n",
    "    stub = pb2_grpc.TestRPCStub(channel)\n",
    "    make_StreamToStream_call(stub, 0.01)"
   ]
  },
  {
   "cell_type": "code",
   "execution_count": null,
   "metadata": {},
   "outputs": [],
   "source": []
  }
 ],
 "metadata": {
  "kernelspec": {
   "display_name": "Python 3",
   "language": "python",
   "name": "python3"
  },
  "language_info": {
   "codemirror_mode": {
    "name": "ipython",
    "version": 3
   },
   "file_extension": ".py",
   "mimetype": "text/x-python",
   "name": "python",
   "nbconvert_exporter": "python",
   "pygments_lexer": "ipython3",
   "version": "3.7.4"
  }
 },
 "nbformat": 4,
 "nbformat_minor": 2
}
