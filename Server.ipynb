{
 "cells": [
  {
   "cell_type": "code",
   "execution_count": 10,
   "metadata": {},
   "outputs": [
    {
     "ename": "ModuleNotFoundError",
     "evalue": "No module named 'grpc'",
     "output_type": "error",
     "traceback": [
      "\u001b[1;31m---------------------------------------------------------------------------\u001b[0m",
      "\u001b[1;31mModuleNotFoundError\u001b[0m                       Traceback (most recent call last)",
      "\u001b[1;32m<ipython-input-10-c286e7c07bdc>\u001b[0m in \u001b[0;36m<module>\u001b[1;34m\u001b[0m\n\u001b[0;32m      6\u001b[0m \u001b[1;32mfrom\u001b[0m \u001b[0mconcurrent\u001b[0m \u001b[1;32mimport\u001b[0m \u001b[0mfutures\u001b[0m\u001b[1;33m\u001b[0m\u001b[1;33m\u001b[0m\u001b[0m\n\u001b[0;32m      7\u001b[0m \u001b[1;33m\u001b[0m\u001b[0m\n\u001b[1;32m----> 8\u001b[1;33m \u001b[1;32mimport\u001b[0m \u001b[0mgrpc\u001b[0m\u001b[1;33m\u001b[0m\u001b[1;33m\u001b[0m\u001b[0m\n\u001b[0m\u001b[0;32m      9\u001b[0m \u001b[1;32mimport\u001b[0m \u001b[0mtestrpc_pb2\u001b[0m \u001b[1;32mas\u001b[0m \u001b[0mpb2\u001b[0m\u001b[1;33m\u001b[0m\u001b[1;33m\u001b[0m\u001b[0m\n\u001b[0;32m     10\u001b[0m \u001b[1;32mimport\u001b[0m \u001b[0mtestrpc_pb2_grpc\u001b[0m \u001b[1;32mas\u001b[0m \u001b[0mpb2_grpc\u001b[0m\u001b[1;33m\u001b[0m\u001b[1;33m\u001b[0m\u001b[0m\n",
      "\u001b[1;31mModuleNotFoundError\u001b[0m: No module named 'grpc'"
     ]
    }
   ],
   "source": [
    "import time\n",
    "\n",
    "import queue as lib_queue\n",
    "from threading import Thread\n",
    "\n",
    "from concurrent import futures\n",
    "\n",
    "import grpc\n",
    "import testrpc_pb2 as pb2\n",
    "import testrpc_pb2_grpc as pb2_grpc"
   ]
  },
  {
   "cell_type": "code",
   "execution_count": 3,
   "metadata": {},
   "outputs": [],
   "source": [
    "class Buffer(object):\n",
    "    \"\"\"A bounded buffer which prefers newer items. We assume only one producer and one consumer.\"\"\"\n",
    "\n",
    "    def __init__(self, maxsize):\n",
    "        self.buf = lib_queue.Queue(maxsize=maxsize)\n",
    "        self.maxsize = maxsize\n",
    "\n",
    "    def get(self, *args, **kwargs):\n",
    "        return self.buf.get(*args, **kwargs)\n",
    "\n",
    "    def put(self, item):\n",
    "        while True:\n",
    "            try:\n",
    "                self.buf.put(item, timeout=0.1)\n",
    "                break\n",
    "            except lib_queue.Full:            \n",
    "                dropped = self.buf.get()\n",
    "                print('Dropped', dropped.msg)\n",
    "                \n",
    "    def qsize(self):\n",
    "        return self.buf.qsize()"
   ]
  },
  {
   "cell_type": "code",
   "execution_count": 3,
   "metadata": {},
   "outputs": [],
   "source": [
    "class Listener(Thread):\n",
    "\n",
    "    def __init__(self, request_iter, buffer, remote_off):\n",
    "        super(Listener, self).__init__()\n",
    "        self.request_iter = request_iter\n",
    "        self.buffer = buffer\n",
    "        self.remote_off = remote_off\n",
    "\n",
    "    def run(self):\n",
    "        for r in self.request_iter:\n",
    "            self.buffer.put(r)\n",
    "        self.remote_off.put(True)"
   ]
  },
  {
   "cell_type": "code",
   "execution_count": 4,
   "metadata": {},
   "outputs": [],
   "source": [
    "class Worker(Thread):\n",
    "    \n",
    "    def __init__(self, buffer, results, remote_off, local_off):\n",
    "        super(Worker, self).__init__()\n",
    "        self.buffer = buffer\n",
    "        self.results = results\n",
    "        self.remote_off = remote_off\n",
    "        self.local_off = local_off\n",
    "        \n",
    "    def run(self):\n",
    "        while True:\n",
    "            try:\n",
    "                r = self.buffer.get(timeout=0.1)\n",
    "                time.sleep(1)  # emulate processing\n",
    "                self.results.put(r.msg)\n",
    "            except lib_queue.Empty:            \n",
    "                try:\n",
    "                    self.remote_off.get(block=False)\n",
    "                    self.local_off.put(True)\n",
    "                    break\n",
    "                except lib_queue.Empty:\n",
    "                    pass"
   ]
  },
  {
   "cell_type": "code",
   "execution_count": 5,
   "metadata": {},
   "outputs": [],
   "source": [
    "class TestRPCServicer(pb2_grpc.TestRPCServicer):\n",
    "\n",
    "    def __init__(self):\n",
    "        pass\n",
    "\n",
    "    def OneToOne(self, request, context):\n",
    "        return pb2.Reply(msg=request.msg)\n",
    "\n",
    "    def OneToStream(self, request, context):\n",
    "        for i in range(len(request.msg)):\n",
    "            yield pb2.Reply(msg=request.msg[i:i+1])\n",
    "\n",
    "    def StreamToOne(self, request_iter, context):\n",
    "        all_bytes = []\n",
    "        for r in request_iter:\n",
    "            all_bytes.append(r.msg)\n",
    "        return pb2.Reply(msg=b''.join(all_bytes))\n",
    "\n",
    "    def StreamToStream(self, request_iter, context):\n",
    "        buffer = Buffer(3)\n",
    "        results = lib_queue.Queue()\n",
    "        remote_off = lib_queue.Queue()\n",
    "        local_off = lib_queue.Queue()\n",
    "        \n",
    "        threads = []\n",
    "        threads.append(Listener(request_iter, buffer, remote_off))\n",
    "        threads.append(Worker(buffer, results, remote_off, local_off))\n",
    "        for t in threads:\n",
    "            t.start()\n",
    "\n",
    "        while True:\n",
    "            try:\n",
    "                msg = results.get(timeout=0.1)\n",
    "                yield pb2.Reply(msg=msg)\n",
    "            except lib_queue.Empty:\n",
    "                if local_off.qsize():\n",
    "                    break\n",
    "        \n",
    "        for t in threads:\n",
    "            t.join()\n",
    "           \n",
    "        print(\"Smoothly stopped.\")"
   ]
  },
  {
   "cell_type": "code",
   "execution_count": 9,
   "metadata": {},
   "outputs": [
    {
     "ename": "NameError",
     "evalue": "name 'grpc' is not defined",
     "output_type": "error",
     "traceback": [
      "\u001b[1;31m---------------------------------------------------------------------------\u001b[0m",
      "\u001b[1;31mNameError\u001b[0m                                 Traceback (most recent call last)",
      "\u001b[1;32m<ipython-input-9-3304dcc3a5d1>\u001b[0m in \u001b[0;36m<module>\u001b[1;34m\u001b[0m\n\u001b[0;32m      1\u001b[0m \u001b[1;32mtry\u001b[0m\u001b[1;33m:\u001b[0m\u001b[1;33m\u001b[0m\u001b[1;33m\u001b[0m\u001b[0m\n\u001b[1;32m----> 2\u001b[1;33m     \u001b[0mserver\u001b[0m \u001b[1;33m=\u001b[0m \u001b[0mgrpc\u001b[0m\u001b[1;33m.\u001b[0m\u001b[0mserver\u001b[0m\u001b[1;33m(\u001b[0m\u001b[0mfutures\u001b[0m\u001b[1;33m.\u001b[0m\u001b[0mThreadPoolExecutor\u001b[0m\u001b[1;33m(\u001b[0m\u001b[0mmax_workers\u001b[0m\u001b[1;33m=\u001b[0m\u001b[1;36m1\u001b[0m\u001b[1;33m)\u001b[0m\u001b[1;33m)\u001b[0m\u001b[1;33m\u001b[0m\u001b[1;33m\u001b[0m\u001b[0m\n\u001b[0m\u001b[0;32m      3\u001b[0m     \u001b[0mpb2_grpc\u001b[0m\u001b[1;33m.\u001b[0m\u001b[0madd_TestRPCServicer_to_server\u001b[0m\u001b[1;33m(\u001b[0m\u001b[0mTestRPCServicer\u001b[0m\u001b[1;33m(\u001b[0m\u001b[1;33m)\u001b[0m\u001b[1;33m,\u001b[0m \u001b[0mserver\u001b[0m\u001b[1;33m)\u001b[0m\u001b[1;33m\u001b[0m\u001b[1;33m\u001b[0m\u001b[0m\n\u001b[0;32m      4\u001b[0m     \u001b[0mserver\u001b[0m\u001b[1;33m.\u001b[0m\u001b[0madd_insecure_port\u001b[0m\u001b[1;33m(\u001b[0m\u001b[1;34m'[::]:50051'\u001b[0m\u001b[1;33m)\u001b[0m\u001b[1;33m\u001b[0m\u001b[1;33m\u001b[0m\u001b[0m\n\u001b[0;32m      5\u001b[0m     \u001b[0mserver\u001b[0m\u001b[1;33m.\u001b[0m\u001b[0mstart\u001b[0m\u001b[1;33m(\u001b[0m\u001b[1;33m)\u001b[0m\u001b[1;33m\u001b[0m\u001b[1;33m\u001b[0m\u001b[0m\n",
      "\u001b[1;31mNameError\u001b[0m: name 'grpc' is not defined"
     ]
    }
   ],
   "source": [
    "try:\n",
    "    server = grpc.server(futures.ThreadPoolExecutor(max_workers=1))\n",
    "    pb2_grpc.add_TestRPCServicer_to_server(TestRPCServicer(), server)\n",
    "    server.add_insecure_port('[::]:50051')\n",
    "    server.start()\n",
    "    server.wait_for_termination()\n",
    "except KeyboardInterrupt:\n",
    "    pass"
   ]
  },
  {
   "cell_type": "code",
   "execution_count": null,
   "metadata": {},
   "outputs": [],
   "source": []
  }
 ],
 "metadata": {
  "kernelspec": {
   "display_name": "Python 3",
   "language": "python",
   "name": "python3"
  },
  "language_info": {
   "codemirror_mode": {
    "name": "ipython",
    "version": 3
   },
   "file_extension": ".py",
   "mimetype": "text/x-python",
   "name": "python",
   "nbconvert_exporter": "python",
   "pygments_lexer": "ipython3",
   "version": "3.7.4"
  }
 },
 "nbformat": 4,
 "nbformat_minor": 2
}
